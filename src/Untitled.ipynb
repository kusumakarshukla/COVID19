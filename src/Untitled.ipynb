{
 "cells": [
  {
   "cell_type": "code",
   "execution_count": 1,
   "metadata": {},
   "outputs": [],
   "source": [
    "import pandas as pd"
   ]
  },
  {
   "cell_type": "code",
   "execution_count": 2,
   "metadata": {},
   "outputs": [],
   "source": [
    "df=pd.read_csv('latest.csv')"
   ]
  },
  {
   "cell_type": "code",
   "execution_count": 3,
   "metadata": {},
   "outputs": [
    {
     "data": {
      "text/html": [
       "<div>\n",
       "<style scoped>\n",
       "    .dataframe tbody tr th:only-of-type {\n",
       "        vertical-align: middle;\n",
       "    }\n",
       "\n",
       "    .dataframe tbody tr th {\n",
       "        vertical-align: top;\n",
       "    }\n",
       "\n",
       "    .dataframe thead th {\n",
       "        text-align: right;\n",
       "    }\n",
       "</style>\n",
       "<table border=\"1\" class=\"dataframe\">\n",
       "  <thead>\n",
       "    <tr style=\"text-align: right;\">\n",
       "      <th></th>\n",
       "      <th>Unnamed: 0</th>\n",
       "      <th>success</th>\n",
       "      <th>data</th>\n",
       "      <th>lastRefreshed</th>\n",
       "      <th>lastOriginUpdate</th>\n",
       "    </tr>\n",
       "  </thead>\n",
       "  <tbody>\n",
       "    <tr>\n",
       "      <th>0</th>\n",
       "      <td>regional</td>\n",
       "      <td>True</td>\n",
       "      <td>[{'loc': 'Andaman and Nicobar Islands', 'confi...</td>\n",
       "      <td>2020-10-17T13:18:23.369Z</td>\n",
       "      <td>2020-10-17T02:30:00.000Z</td>\n",
       "    </tr>\n",
       "    <tr>\n",
       "      <th>1</th>\n",
       "      <td>summary</td>\n",
       "      <td>True</td>\n",
       "      <td>{'total': 7432680, 'confirmedCasesIndian': 743...</td>\n",
       "      <td>2020-10-17T13:18:23.369Z</td>\n",
       "      <td>2020-10-17T02:30:00.000Z</td>\n",
       "    </tr>\n",
       "    <tr>\n",
       "      <th>2</th>\n",
       "      <td>unofficial-summary</td>\n",
       "      <td>True</td>\n",
       "      <td>[{'source': 'covid19india.org', 'total': 74428...</td>\n",
       "      <td>2020-10-17T13:18:23.369Z</td>\n",
       "      <td>2020-10-17T02:30:00.000Z</td>\n",
       "    </tr>\n",
       "  </tbody>\n",
       "</table>\n",
       "</div>"
      ],
      "text/plain": [
       "           Unnamed: 0  success  \\\n",
       "0            regional     True   \n",
       "1             summary     True   \n",
       "2  unofficial-summary     True   \n",
       "\n",
       "                                                data  \\\n",
       "0  [{'loc': 'Andaman and Nicobar Islands', 'confi...   \n",
       "1  {'total': 7432680, 'confirmedCasesIndian': 743...   \n",
       "2  [{'source': 'covid19india.org', 'total': 74428...   \n",
       "\n",
       "              lastRefreshed          lastOriginUpdate  \n",
       "0  2020-10-17T13:18:23.369Z  2020-10-17T02:30:00.000Z  \n",
       "1  2020-10-17T13:18:23.369Z  2020-10-17T02:30:00.000Z  \n",
       "2  2020-10-17T13:18:23.369Z  2020-10-17T02:30:00.000Z  "
      ]
     },
     "execution_count": 3,
     "metadata": {},
     "output_type": "execute_result"
    }
   ],
   "source": [
    "df"
   ]
  },
  {
   "cell_type": "code",
   "execution_count": 4,
   "metadata": {},
   "outputs": [
    {
     "data": {
      "text/plain": [
       "Index(['Unnamed: 0', 'success', 'data', 'lastRefreshed', 'lastOriginUpdate'], dtype='object')"
      ]
     },
     "execution_count": 4,
     "metadata": {},
     "output_type": "execute_result"
    }
   ],
   "source": [
    "df.columns"
   ]
  },
  {
   "cell_type": "code",
   "execution_count": 14,
   "metadata": {},
   "outputs": [],
   "source": [
    "regional=df[df['Unnamed: 0']=='regional']['data']\n"
   ]
  },
  {
   "cell_type": "code",
   "execution_count": 21,
   "metadata": {},
   "outputs": [
    {
     "ename": "JSONDecodeError",
     "evalue": "Expecting property name enclosed in double quotes: line 1 column 3 (char 2)",
     "output_type": "error",
     "traceback": [
      "\u001b[0;31m---------------------------------------------------------------------------\u001b[0m",
      "\u001b[0;31mJSONDecodeError\u001b[0m                           Traceback (most recent call last)",
      "\u001b[0;32m<ipython-input-21-ec8613efa232>\u001b[0m in \u001b[0;36m<module>\u001b[0;34m\u001b[0m\n\u001b[1;32m      1\u001b[0m \u001b[0;32mimport\u001b[0m \u001b[0mjson\u001b[0m\u001b[0;34m\u001b[0m\u001b[0;34m\u001b[0m\u001b[0m\n\u001b[0;32m----> 2\u001b[0;31m \u001b[0mjson\u001b[0m\u001b[0;34m.\u001b[0m\u001b[0mloads\u001b[0m\u001b[0;34m(\u001b[0m\u001b[0mregional\u001b[0m\u001b[0;34m.\u001b[0m\u001b[0mtolist\u001b[0m\u001b[0;34m(\u001b[0m\u001b[0;34m)\u001b[0m\u001b[0;34m[\u001b[0m\u001b[0;36m0\u001b[0m\u001b[0;34m]\u001b[0m\u001b[0;34m)\u001b[0m\u001b[0;34m\u001b[0m\u001b[0;34m\u001b[0m\u001b[0m\n\u001b[0m",
      "\u001b[0;32m/opt/anaconda3/envs/sparky/lib/python3.7/json/__init__.py\u001b[0m in \u001b[0;36mloads\u001b[0;34m(s, encoding, cls, object_hook, parse_float, parse_int, parse_constant, object_pairs_hook, **kw)\u001b[0m\n\u001b[1;32m    346\u001b[0m             \u001b[0mparse_int\u001b[0m \u001b[0;32mis\u001b[0m \u001b[0;32mNone\u001b[0m \u001b[0;32mand\u001b[0m \u001b[0mparse_float\u001b[0m \u001b[0;32mis\u001b[0m \u001b[0;32mNone\u001b[0m \u001b[0;32mand\u001b[0m\u001b[0;34m\u001b[0m\u001b[0;34m\u001b[0m\u001b[0m\n\u001b[1;32m    347\u001b[0m             parse_constant is None and object_pairs_hook is None and not kw):\n\u001b[0;32m--> 348\u001b[0;31m         \u001b[0;32mreturn\u001b[0m \u001b[0m_default_decoder\u001b[0m\u001b[0;34m.\u001b[0m\u001b[0mdecode\u001b[0m\u001b[0;34m(\u001b[0m\u001b[0ms\u001b[0m\u001b[0;34m)\u001b[0m\u001b[0;34m\u001b[0m\u001b[0;34m\u001b[0m\u001b[0m\n\u001b[0m\u001b[1;32m    349\u001b[0m     \u001b[0;32mif\u001b[0m \u001b[0mcls\u001b[0m \u001b[0;32mis\u001b[0m \u001b[0;32mNone\u001b[0m\u001b[0;34m:\u001b[0m\u001b[0;34m\u001b[0m\u001b[0;34m\u001b[0m\u001b[0m\n\u001b[1;32m    350\u001b[0m         \u001b[0mcls\u001b[0m \u001b[0;34m=\u001b[0m \u001b[0mJSONDecoder\u001b[0m\u001b[0;34m\u001b[0m\u001b[0;34m\u001b[0m\u001b[0m\n",
      "\u001b[0;32m/opt/anaconda3/envs/sparky/lib/python3.7/json/decoder.py\u001b[0m in \u001b[0;36mdecode\u001b[0;34m(self, s, _w)\u001b[0m\n\u001b[1;32m    335\u001b[0m \u001b[0;34m\u001b[0m\u001b[0m\n\u001b[1;32m    336\u001b[0m         \"\"\"\n\u001b[0;32m--> 337\u001b[0;31m         \u001b[0mobj\u001b[0m\u001b[0;34m,\u001b[0m \u001b[0mend\u001b[0m \u001b[0;34m=\u001b[0m \u001b[0mself\u001b[0m\u001b[0;34m.\u001b[0m\u001b[0mraw_decode\u001b[0m\u001b[0;34m(\u001b[0m\u001b[0ms\u001b[0m\u001b[0;34m,\u001b[0m \u001b[0midx\u001b[0m\u001b[0;34m=\u001b[0m\u001b[0m_w\u001b[0m\u001b[0;34m(\u001b[0m\u001b[0ms\u001b[0m\u001b[0;34m,\u001b[0m \u001b[0;36m0\u001b[0m\u001b[0;34m)\u001b[0m\u001b[0;34m.\u001b[0m\u001b[0mend\u001b[0m\u001b[0;34m(\u001b[0m\u001b[0;34m)\u001b[0m\u001b[0;34m)\u001b[0m\u001b[0;34m\u001b[0m\u001b[0;34m\u001b[0m\u001b[0m\n\u001b[0m\u001b[1;32m    338\u001b[0m         \u001b[0mend\u001b[0m \u001b[0;34m=\u001b[0m \u001b[0m_w\u001b[0m\u001b[0;34m(\u001b[0m\u001b[0ms\u001b[0m\u001b[0;34m,\u001b[0m \u001b[0mend\u001b[0m\u001b[0;34m)\u001b[0m\u001b[0;34m.\u001b[0m\u001b[0mend\u001b[0m\u001b[0;34m(\u001b[0m\u001b[0;34m)\u001b[0m\u001b[0;34m\u001b[0m\u001b[0;34m\u001b[0m\u001b[0m\n\u001b[1;32m    339\u001b[0m         \u001b[0;32mif\u001b[0m \u001b[0mend\u001b[0m \u001b[0;34m!=\u001b[0m \u001b[0mlen\u001b[0m\u001b[0;34m(\u001b[0m\u001b[0ms\u001b[0m\u001b[0;34m)\u001b[0m\u001b[0;34m:\u001b[0m\u001b[0;34m\u001b[0m\u001b[0;34m\u001b[0m\u001b[0m\n",
      "\u001b[0;32m/opt/anaconda3/envs/sparky/lib/python3.7/json/decoder.py\u001b[0m in \u001b[0;36mraw_decode\u001b[0;34m(self, s, idx)\u001b[0m\n\u001b[1;32m    351\u001b[0m         \"\"\"\n\u001b[1;32m    352\u001b[0m         \u001b[0;32mtry\u001b[0m\u001b[0;34m:\u001b[0m\u001b[0;34m\u001b[0m\u001b[0;34m\u001b[0m\u001b[0m\n\u001b[0;32m--> 353\u001b[0;31m             \u001b[0mobj\u001b[0m\u001b[0;34m,\u001b[0m \u001b[0mend\u001b[0m \u001b[0;34m=\u001b[0m \u001b[0mself\u001b[0m\u001b[0;34m.\u001b[0m\u001b[0mscan_once\u001b[0m\u001b[0;34m(\u001b[0m\u001b[0ms\u001b[0m\u001b[0;34m,\u001b[0m \u001b[0midx\u001b[0m\u001b[0;34m)\u001b[0m\u001b[0;34m\u001b[0m\u001b[0;34m\u001b[0m\u001b[0m\n\u001b[0m\u001b[1;32m    354\u001b[0m         \u001b[0;32mexcept\u001b[0m \u001b[0mStopIteration\u001b[0m \u001b[0;32mas\u001b[0m \u001b[0merr\u001b[0m\u001b[0;34m:\u001b[0m\u001b[0;34m\u001b[0m\u001b[0;34m\u001b[0m\u001b[0m\n\u001b[1;32m    355\u001b[0m             \u001b[0;32mraise\u001b[0m \u001b[0mJSONDecodeError\u001b[0m\u001b[0;34m(\u001b[0m\u001b[0;34m\"Expecting value\"\u001b[0m\u001b[0;34m,\u001b[0m \u001b[0ms\u001b[0m\u001b[0;34m,\u001b[0m \u001b[0merr\u001b[0m\u001b[0;34m.\u001b[0m\u001b[0mvalue\u001b[0m\u001b[0;34m)\u001b[0m \u001b[0;32mfrom\u001b[0m \u001b[0;32mNone\u001b[0m\u001b[0;34m\u001b[0m\u001b[0;34m\u001b[0m\u001b[0m\n",
      "\u001b[0;31mJSONDecodeError\u001b[0m: Expecting property name enclosed in double quotes: line 1 column 3 (char 2)"
     ]
    }
   ],
   "source": [
    "import json\n",
    "json.loads(regional.tolist()[0])"
   ]
  },
  {
   "cell_type": "code",
   "execution_count": 22,
   "metadata": {},
   "outputs": [
    {
     "data": {
      "text/plain": [
       "\"[{'loc': 'Andaman and Nicobar Islands', 'confirmedCasesIndian': 4072, 'confirmedCasesForeign': 0, 'discharged': 3831, 'deaths': 56, 'totalConfirmed': 4072}, {'loc': 'Andhra Pradesh', 'confirmedCasesIndian': 775470, 'confirmedCasesForeign': 0, 'discharged': 730109, 'deaths': 6382, 'totalConfirmed': 775470}, {'loc': 'Arunachal Pradesh', 'confirmedCasesIndian': 13169, 'confirmedCasesForeign': 0, 'discharged': 10071, 'deaths': 30, 'totalConfirmed': 13169}, {'loc': 'Assam', 'confirmedCasesIndian': 199749, 'confirmedCasesForeign': 0, 'discharged': 170265, 'deaths': 853, 'totalConfirmed': 199749}, {'loc': 'Bihar', 'confirmedCasesIndian': 202290, 'confirmedCasesForeign': 0, 'discharged': 190425, 'deaths': 981, 'totalConfirmed': 202290}, {'loc': 'Chandigarh', 'confirmedCasesIndian': 13532, 'confirmedCasesForeign': 0, 'discharged': 12352, 'deaths': 206, 'totalConfirmed': 13532}, {'loc': 'Chhattisgarh', 'confirmedCasesIndian': 155987, 'confirmedCasesForeign': 0, 'discharged': 126869, 'deaths': 1425, 'totalConfirmed': 155987}, {'loc': 'Dadra and Nagar Haveli and Daman and Diu', 'confirmedCasesIndian': 3177, 'confirmedCasesForeign': 0, 'discharged': 3109, 'deaths': 2, 'totalConfirmed': 3177}, {'loc': 'Delhi', 'confirmedCasesIndian': 324458, 'confirmedCasesForeign': 1, 'discharged': 295699, 'deaths': 5946, 'totalConfirmed': 324459}, {'loc': 'Goa', 'confirmedCasesIndian': 40090, 'confirmedCasesForeign': 1, 'discharged': 35610, 'deaths': 531, 'totalConfirmed': 40091}, {'loc': 'Gujarat', 'confirmedCasesIndian': 157311, 'confirmedCasesForeign': 1, 'discharged': 139012, 'deaths': 3617, 'totalConfirmed': 157312}, {'loc': 'Haryana', 'confirmedCasesIndian': 147919, 'confirmedCasesForeign': 14, 'discharged': 135858, 'deaths': 1634, 'totalConfirmed': 147933}, {'loc': 'Himachal Pradesh', 'confirmedCasesIndian': 18522, 'confirmedCasesForeign': 0, 'discharged': 15618, 'deaths': 262, 'totalConfirmed': 18522}, {'loc': 'Jammu and Kashmir', 'confirmedCasesIndian': 86754, 'confirmedCasesForeign': 0, 'discharged': 76479, 'deaths': 1366, 'totalConfirmed': 86754}, {'loc': 'Jharkhand', 'confirmedCasesIndian': 95425, 'confirmedCasesForeign': 0, 'discharged': 88058, 'deaths': 824, 'totalConfirmed': 95425}, {'loc': 'Karnataka', 'confirmedCasesIndian': 751390, 'confirmedCasesForeign': 0, 'discharged': 628588, 'deaths': 10356, 'totalConfirmed': 751390}, {'loc': 'Kerala', 'confirmedCasesIndian': 325204, 'confirmedCasesForeign': 8, 'discharged': 228998, 'deaths': 1113, 'totalConfirmed': 325212}, {'loc': 'Ladakh', 'confirmedCasesIndian': 5441, 'confirmedCasesForeign': 0, 'discharged': 4461, 'deaths': 65, 'totalConfirmed': 5441}, {'loc': 'Lakshadweep', 'confirmedCasesIndian': 0, 'confirmedCasesForeign': 0, 'discharged': 0, 'deaths': 0, 'totalConfirmed': 0}, {'loc': 'Madhya Pradesh', 'confirmedCasesIndian': 157936, 'confirmedCasesForeign': 0, 'discharged': 141273, 'deaths': 2735, 'totalConfirmed': 157936}, {'loc': 'Maharashtra', 'confirmedCasesIndian': 1576059, 'confirmedCasesForeign': 3, 'discharged': 1344368, 'deaths': 41502, 'totalConfirmed': 1576062}, {'loc': 'Manipur', 'confirmedCasesIndian': 14715, 'confirmedCasesForeign': 0, 'discharged': 11245, 'deaths': 109, 'totalConfirmed': 14715}, {'loc': 'Meghalaya', 'confirmedCasesIndian': 8303, 'confirmedCasesForeign': 0, 'discharged': 5735, 'deaths': 75, 'totalConfirmed': 8303}, {'loc': 'Mizoram', 'confirmedCasesIndian': 2245, 'confirmedCasesForeign': 0, 'discharged': 2133, 'deaths': 0, 'totalConfirmed': 2245}, {'loc': 'Nagaland', 'confirmedCasesIndian': 7604, 'confirmedCasesForeign': 0, 'discharged': 6111, 'deaths': 22, 'totalConfirmed': 7604}, {'loc': 'Odisha', 'confirmedCasesIndian': 264149, 'confirmedCasesForeign': 0, 'discharged': 241385, 'deaths': 1104, 'totalConfirmed': 264149}, {'loc': 'Puducherry', 'confirmedCasesIndian': 32766, 'confirmedCasesForeign': 0, 'discharged': 27671, 'deaths': 571, 'totalConfirmed': 32766}, {'loc': 'Punjab', 'confirmedCasesIndian': 126737, 'confirmedCasesForeign': 0, 'discharged': 116165, 'deaths': 3980, 'totalConfirmed': 126737}, {'loc': 'Rajasthan', 'confirmedCasesIndian': 169287, 'confirmedCasesForeign': 2, 'discharged': 146185, 'deaths': 1723, 'totalConfirmed': 169289}, {'loc': 'Sikkim', 'confirmedCasesIndian': 3531, 'confirmedCasesForeign': 0, 'discharged': 3177, 'deaths': 59, 'totalConfirmed': 3531}, {'loc': 'Tamil Nadu', 'confirmedCasesIndian': 679185, 'confirmedCasesForeign': 6, 'discharged': 627703, 'deaths': 10529, 'totalConfirmed': 679191}, {'loc': 'Telengana', 'confirmedCasesIndian': 220665, 'confirmedCasesForeign': 10, 'discharged': 196636, 'deaths': 1265, 'totalConfirmed': 220675}, {'loc': 'Tripura', 'confirmedCasesIndian': 29327, 'confirmedCasesForeign': 0, 'discharged': 26035, 'deaths': 326, 'totalConfirmed': 29327}, {'loc': 'Uttarakhand', 'confirmedCasesIndian': 57041, 'confirmedCasesForeign': 1, 'discharged': 50521, 'deaths': 829, 'totalConfirmed': 57042}, {'loc': 'Uttar Pradesh', 'confirmedCasesIndian': 449934, 'confirmedCasesForeign': 1, 'discharged': 408083, 'deaths': 6589, 'totalConfirmed': 449935}, {'loc': 'West Bengal', 'confirmedCasesIndian': 313188, 'confirmedCasesForeign': 0, 'discharged': 274757, 'deaths': 5931, 'totalConfirmed': 313188}]\""
      ]
     },
     "execution_count": 22,
     "metadata": {},
     "output_type": "execute_result"
    }
   ],
   "source": [
    "regional.tolist()[0]"
   ]
  },
  {
   "cell_type": "code",
   "execution_count": 24,
   "metadata": {},
   "outputs": [],
   "source": [
    "list1=eval(regional.tolist()[0])"
   ]
  },
  {
   "cell_type": "code",
   "execution_count": 25,
   "metadata": {},
   "outputs": [
    {
     "data": {
      "text/plain": [
       "list"
      ]
     },
     "execution_count": 25,
     "metadata": {},
     "output_type": "execute_result"
    }
   ],
   "source": [
    "type(list1)"
   ]
  },
  {
   "cell_type": "code",
   "execution_count": 27,
   "metadata": {},
   "outputs": [
    {
     "data": {
      "text/plain": [
       "{'loc': 'Andhra Pradesh',\n",
       " 'confirmedCasesIndian': 775470,\n",
       " 'confirmedCasesForeign': 0,\n",
       " 'discharged': 730109,\n",
       " 'deaths': 6382,\n",
       " 'totalConfirmed': 775470}"
      ]
     },
     "execution_count": 27,
     "metadata": {},
     "output_type": "execute_result"
    }
   ],
   "source": [
    "list1[1]"
   ]
  },
  {
   "cell_type": "code",
   "execution_count": 29,
   "metadata": {},
   "outputs": [
    {
     "data": {
      "text/plain": [
       "['Andaman and Nicobar Islands',\n",
       " 'Andhra Pradesh',\n",
       " 'Arunachal Pradesh',\n",
       " 'Assam',\n",
       " 'Bihar',\n",
       " 'Chandigarh',\n",
       " 'Chhattisgarh',\n",
       " 'Dadra and Nagar Haveli and Daman and Diu',\n",
       " 'Delhi',\n",
       " 'Goa',\n",
       " 'Gujarat',\n",
       " 'Haryana',\n",
       " 'Himachal Pradesh',\n",
       " 'Jammu and Kashmir',\n",
       " 'Jharkhand',\n",
       " 'Karnataka',\n",
       " 'Kerala',\n",
       " 'Ladakh',\n",
       " 'Lakshadweep',\n",
       " 'Madhya Pradesh',\n",
       " 'Maharashtra',\n",
       " 'Manipur',\n",
       " 'Meghalaya',\n",
       " 'Mizoram',\n",
       " 'Nagaland',\n",
       " 'Odisha',\n",
       " 'Puducherry',\n",
       " 'Punjab',\n",
       " 'Rajasthan',\n",
       " 'Sikkim',\n",
       " 'Tamil Nadu',\n",
       " 'Telengana',\n",
       " 'Tripura',\n",
       " 'Uttarakhand',\n",
       " 'Uttar Pradesh',\n",
       " 'West Bengal']"
      ]
     },
     "execution_count": 29,
     "metadata": {},
     "output_type": "execute_result"
    }
   ],
   "source": [
    "[i['loc'] for i in list1]"
   ]
  },
  {
   "cell_type": "code",
   "execution_count": 13,
   "metadata": {},
   "outputs": [
    {
     "name": "stdout",
     "output_type": "stream",
     "text": [
      "Index(['success', 'data', 'lastRefreshed', 'lastOriginUpdate'], dtype='object')\n"
     ]
    },
    {
     "ename": "NameError",
     "evalue": "name 'regional' is not defined",
     "output_type": "error",
     "traceback": [
      "\u001b[0;31m---------------------------------------------------------------------------\u001b[0m",
      "\u001b[0;31mNameError\u001b[0m                                 Traceback (most recent call last)",
      "\u001b[0;32m<ipython-input-13-6af153f3f5b1>\u001b[0m in \u001b[0;36m<module>\u001b[0;34m\u001b[0m\n\u001b[1;32m      9\u001b[0m \u001b[0mprint\u001b[0m\u001b[0;34m(\u001b[0m\u001b[0mdf\u001b[0m\u001b[0;34m.\u001b[0m\u001b[0mcolumns\u001b[0m\u001b[0;34m)\u001b[0m\u001b[0;34m\u001b[0m\u001b[0;34m\u001b[0m\u001b[0m\n\u001b[1;32m     10\u001b[0m \u001b[0;34m\u001b[0m\u001b[0m\n\u001b[0;32m---> 11\u001b[0;31m \u001b[0mlist1\u001b[0m\u001b[0;34m=\u001b[0m\u001b[0meval\u001b[0m\u001b[0;34m(\u001b[0m\u001b[0mregional\u001b[0m\u001b[0;34m.\u001b[0m\u001b[0mtolist\u001b[0m\u001b[0;34m(\u001b[0m\u001b[0;34m)\u001b[0m\u001b[0;34m[\u001b[0m\u001b[0;36m0\u001b[0m\u001b[0;34m]\u001b[0m\u001b[0;34m)\u001b[0m\u001b[0;34m\u001b[0m\u001b[0;34m\u001b[0m\u001b[0m\n\u001b[0m\u001b[1;32m     12\u001b[0m \u001b[0;32mreturn\u001b[0m \u001b[0mlist1\u001b[0m\u001b[0;34m\u001b[0m\u001b[0;34m\u001b[0m\u001b[0m\n",
      "\u001b[0;31mNameError\u001b[0m: name 'regional' is not defined"
     ]
    }
   ],
   "source": [
    "            import requests\n",
    "            import pandas as pd\n",
    "            response = requests.get('https://api.rootnet.in/covid19-in/stats/latest').text\n",
    "            \n",
    "            \n",
    "            df=pd.read_json(response)\n",
    "            df=df.reset_index(drop=True)\n",
    "           \n",
    "            print(df.columns)\n",
    "            \n",
    "            list1=eval(regional.tolist()[0])\n",
    "            return list1\n"
   ]
  },
  {
   "cell_type": "code",
   "execution_count": 14,
   "metadata": {},
   "outputs": [
    {
     "data": {
      "text/html": [
       "<div>\n",
       "<style scoped>\n",
       "    .dataframe tbody tr th:only-of-type {\n",
       "        vertical-align: middle;\n",
       "    }\n",
       "\n",
       "    .dataframe tbody tr th {\n",
       "        vertical-align: top;\n",
       "    }\n",
       "\n",
       "    .dataframe thead th {\n",
       "        text-align: right;\n",
       "    }\n",
       "</style>\n",
       "<table border=\"1\" class=\"dataframe\">\n",
       "  <thead>\n",
       "    <tr style=\"text-align: right;\">\n",
       "      <th></th>\n",
       "      <th>success</th>\n",
       "      <th>data</th>\n",
       "      <th>lastRefreshed</th>\n",
       "      <th>lastOriginUpdate</th>\n",
       "    </tr>\n",
       "  </thead>\n",
       "  <tbody>\n",
       "    <tr>\n",
       "      <th>0</th>\n",
       "      <td>True</td>\n",
       "      <td>[{'loc': 'Andaman and Nicobar Islands', 'confi...</td>\n",
       "      <td>2020-10-17T13:42:23.736Z</td>\n",
       "      <td>2020-10-17T02:30:00.000Z</td>\n",
       "    </tr>\n",
       "    <tr>\n",
       "      <th>1</th>\n",
       "      <td>True</td>\n",
       "      <td>{'total': 7432680, 'confirmedCasesIndian': 743...</td>\n",
       "      <td>2020-10-17T13:42:23.736Z</td>\n",
       "      <td>2020-10-17T02:30:00.000Z</td>\n",
       "    </tr>\n",
       "    <tr>\n",
       "      <th>2</th>\n",
       "      <td>True</td>\n",
       "      <td>[{'source': 'covid19india.org', 'total': 74428...</td>\n",
       "      <td>2020-10-17T13:42:23.736Z</td>\n",
       "      <td>2020-10-17T02:30:00.000Z</td>\n",
       "    </tr>\n",
       "  </tbody>\n",
       "</table>\n",
       "</div>"
      ],
      "text/plain": [
       "   success                                               data  \\\n",
       "0     True  [{'loc': 'Andaman and Nicobar Islands', 'confi...   \n",
       "1     True  {'total': 7432680, 'confirmedCasesIndian': 743...   \n",
       "2     True  [{'source': 'covid19india.org', 'total': 74428...   \n",
       "\n",
       "              lastRefreshed          lastOriginUpdate  \n",
       "0  2020-10-17T13:42:23.736Z  2020-10-17T02:30:00.000Z  \n",
       "1  2020-10-17T13:42:23.736Z  2020-10-17T02:30:00.000Z  \n",
       "2  2020-10-17T13:42:23.736Z  2020-10-17T02:30:00.000Z  "
      ]
     },
     "execution_count": 14,
     "metadata": {},
     "output_type": "execute_result"
    }
   ],
   "source": [
    "df"
   ]
  },
  {
   "cell_type": "code",
   "execution_count": 8,
   "metadata": {},
   "outputs": [
    {
     "data": {
      "text/html": [
       "<div>\n",
       "<style scoped>\n",
       "    .dataframe tbody tr th:only-of-type {\n",
       "        vertical-align: middle;\n",
       "    }\n",
       "\n",
       "    .dataframe tbody tr th {\n",
       "        vertical-align: top;\n",
       "    }\n",
       "\n",
       "    .dataframe thead th {\n",
       "        text-align: right;\n",
       "    }\n",
       "</style>\n",
       "<table border=\"1\" class=\"dataframe\">\n",
       "  <thead>\n",
       "    <tr style=\"text-align: right;\">\n",
       "      <th></th>\n",
       "      <th>success</th>\n",
       "      <th>data</th>\n",
       "      <th>lastRefreshed</th>\n",
       "      <th>lastOriginUpdate</th>\n",
       "    </tr>\n",
       "  </thead>\n",
       "  <tbody>\n",
       "    <tr>\n",
       "      <th>regional</th>\n",
       "      <td>True</td>\n",
       "      <td>[{'loc': 'Andaman and Nicobar Islands', 'confi...</td>\n",
       "      <td>2020-10-17T13:42:23.736Z</td>\n",
       "      <td>2020-10-17T02:30:00.000Z</td>\n",
       "    </tr>\n",
       "    <tr>\n",
       "      <th>summary</th>\n",
       "      <td>True</td>\n",
       "      <td>{'total': 7432680, 'confirmedCasesIndian': 743...</td>\n",
       "      <td>2020-10-17T13:42:23.736Z</td>\n",
       "      <td>2020-10-17T02:30:00.000Z</td>\n",
       "    </tr>\n",
       "    <tr>\n",
       "      <th>unofficial-summary</th>\n",
       "      <td>True</td>\n",
       "      <td>[{'source': 'covid19india.org', 'total': 74428...</td>\n",
       "      <td>2020-10-17T13:42:23.736Z</td>\n",
       "      <td>2020-10-17T02:30:00.000Z</td>\n",
       "    </tr>\n",
       "  </tbody>\n",
       "</table>\n",
       "</div>"
      ],
      "text/plain": [
       "                    success  \\\n",
       "regional               True   \n",
       "summary                True   \n",
       "unofficial-summary     True   \n",
       "\n",
       "                                                                 data  \\\n",
       "regional            [{'loc': 'Andaman and Nicobar Islands', 'confi...   \n",
       "summary             {'total': 7432680, 'confirmedCasesIndian': 743...   \n",
       "unofficial-summary  [{'source': 'covid19india.org', 'total': 74428...   \n",
       "\n",
       "                               lastRefreshed          lastOriginUpdate  \n",
       "regional            2020-10-17T13:42:23.736Z  2020-10-17T02:30:00.000Z  \n",
       "summary             2020-10-17T13:42:23.736Z  2020-10-17T02:30:00.000Z  \n",
       "unofficial-summary  2020-10-17T13:42:23.736Z  2020-10-17T02:30:00.000Z  "
      ]
     },
     "execution_count": 8,
     "metadata": {},
     "output_type": "execute_result"
    }
   ],
   "source": [
    "df"
   ]
  },
  {
   "cell_type": "code",
   "execution_count": 16,
   "metadata": {},
   "outputs": [],
   "source": [
    "response = requests.get('https://api.rootnet.in/covid19-in/stats/latest').text\n",
    "            \n",
    "df=pd.read_json(response)"
   ]
  },
  {
   "cell_type": "code",
   "execution_count": 19,
   "metadata": {},
   "outputs": [],
   "source": [
    "df['type']=df.index"
   ]
  },
  {
   "cell_type": "code",
   "execution_count": 23,
   "metadata": {},
   "outputs": [],
   "source": [
    "df.reset_index(drop=True,inplace=True)"
   ]
  },
  {
   "cell_type": "code",
   "execution_count": 26,
   "metadata": {},
   "outputs": [],
   "source": [
    "regional=df[df['type']=='regional']['data']\n",
    "list1=regional.tolist()[0]"
   ]
  },
  {
   "cell_type": "code",
   "execution_count": 27,
   "metadata": {},
   "outputs": [
    {
     "data": {
      "text/plain": [
       "[{'loc': 'Andaman and Nicobar Islands',\n",
       "  'confirmedCasesIndian': 4072,\n",
       "  'confirmedCasesForeign': 0,\n",
       "  'discharged': 3831,\n",
       "  'deaths': 56,\n",
       "  'totalConfirmed': 4072},\n",
       " {'loc': 'Andhra Pradesh',\n",
       "  'confirmedCasesIndian': 775470,\n",
       "  'confirmedCasesForeign': 0,\n",
       "  'discharged': 730109,\n",
       "  'deaths': 6382,\n",
       "  'totalConfirmed': 775470},\n",
       " {'loc': 'Arunachal Pradesh',\n",
       "  'confirmedCasesIndian': 13169,\n",
       "  'confirmedCasesForeign': 0,\n",
       "  'discharged': 10071,\n",
       "  'deaths': 30,\n",
       "  'totalConfirmed': 13169},\n",
       " {'loc': 'Assam',\n",
       "  'confirmedCasesIndian': 199749,\n",
       "  'confirmedCasesForeign': 0,\n",
       "  'discharged': 170265,\n",
       "  'deaths': 853,\n",
       "  'totalConfirmed': 199749},\n",
       " {'loc': 'Bihar',\n",
       "  'confirmedCasesIndian': 202290,\n",
       "  'confirmedCasesForeign': 0,\n",
       "  'discharged': 190425,\n",
       "  'deaths': 981,\n",
       "  'totalConfirmed': 202290},\n",
       " {'loc': 'Chandigarh',\n",
       "  'confirmedCasesIndian': 13532,\n",
       "  'confirmedCasesForeign': 0,\n",
       "  'discharged': 12352,\n",
       "  'deaths': 206,\n",
       "  'totalConfirmed': 13532},\n",
       " {'loc': 'Chhattisgarh',\n",
       "  'confirmedCasesIndian': 155987,\n",
       "  'confirmedCasesForeign': 0,\n",
       "  'discharged': 126869,\n",
       "  'deaths': 1425,\n",
       "  'totalConfirmed': 155987},\n",
       " {'loc': 'Dadra and Nagar Haveli and Daman and Diu',\n",
       "  'confirmedCasesIndian': 3177,\n",
       "  'confirmedCasesForeign': 0,\n",
       "  'discharged': 3109,\n",
       "  'deaths': 2,\n",
       "  'totalConfirmed': 3177},\n",
       " {'loc': 'Delhi',\n",
       "  'confirmedCasesIndian': 324458,\n",
       "  'confirmedCasesForeign': 1,\n",
       "  'discharged': 295699,\n",
       "  'deaths': 5946,\n",
       "  'totalConfirmed': 324459},\n",
       " {'loc': 'Goa',\n",
       "  'confirmedCasesIndian': 40090,\n",
       "  'confirmedCasesForeign': 1,\n",
       "  'discharged': 35610,\n",
       "  'deaths': 531,\n",
       "  'totalConfirmed': 40091},\n",
       " {'loc': 'Gujarat',\n",
       "  'confirmedCasesIndian': 157311,\n",
       "  'confirmedCasesForeign': 1,\n",
       "  'discharged': 139012,\n",
       "  'deaths': 3617,\n",
       "  'totalConfirmed': 157312},\n",
       " {'loc': 'Haryana',\n",
       "  'confirmedCasesIndian': 147919,\n",
       "  'confirmedCasesForeign': 14,\n",
       "  'discharged': 135858,\n",
       "  'deaths': 1634,\n",
       "  'totalConfirmed': 147933},\n",
       " {'loc': 'Himachal Pradesh',\n",
       "  'confirmedCasesIndian': 18522,\n",
       "  'confirmedCasesForeign': 0,\n",
       "  'discharged': 15618,\n",
       "  'deaths': 262,\n",
       "  'totalConfirmed': 18522},\n",
       " {'loc': 'Jammu and Kashmir',\n",
       "  'confirmedCasesIndian': 86754,\n",
       "  'confirmedCasesForeign': 0,\n",
       "  'discharged': 76479,\n",
       "  'deaths': 1366,\n",
       "  'totalConfirmed': 86754},\n",
       " {'loc': 'Jharkhand',\n",
       "  'confirmedCasesIndian': 95425,\n",
       "  'confirmedCasesForeign': 0,\n",
       "  'discharged': 88058,\n",
       "  'deaths': 824,\n",
       "  'totalConfirmed': 95425},\n",
       " {'loc': 'Karnataka',\n",
       "  'confirmedCasesIndian': 751390,\n",
       "  'confirmedCasesForeign': 0,\n",
       "  'discharged': 628588,\n",
       "  'deaths': 10356,\n",
       "  'totalConfirmed': 751390},\n",
       " {'loc': 'Kerala',\n",
       "  'confirmedCasesIndian': 325204,\n",
       "  'confirmedCasesForeign': 8,\n",
       "  'discharged': 228998,\n",
       "  'deaths': 1113,\n",
       "  'totalConfirmed': 325212},\n",
       " {'loc': 'Ladakh',\n",
       "  'confirmedCasesIndian': 5441,\n",
       "  'confirmedCasesForeign': 0,\n",
       "  'discharged': 4461,\n",
       "  'deaths': 65,\n",
       "  'totalConfirmed': 5441},\n",
       " {'loc': 'Lakshadweep',\n",
       "  'confirmedCasesIndian': 0,\n",
       "  'confirmedCasesForeign': 0,\n",
       "  'discharged': 0,\n",
       "  'deaths': 0,\n",
       "  'totalConfirmed': 0},\n",
       " {'loc': 'Madhya Pradesh',\n",
       "  'confirmedCasesIndian': 157936,\n",
       "  'confirmedCasesForeign': 0,\n",
       "  'discharged': 141273,\n",
       "  'deaths': 2735,\n",
       "  'totalConfirmed': 157936},\n",
       " {'loc': 'Maharashtra',\n",
       "  'confirmedCasesIndian': 1576059,\n",
       "  'confirmedCasesForeign': 3,\n",
       "  'discharged': 1344368,\n",
       "  'deaths': 41502,\n",
       "  'totalConfirmed': 1576062},\n",
       " {'loc': 'Manipur',\n",
       "  'confirmedCasesIndian': 14715,\n",
       "  'confirmedCasesForeign': 0,\n",
       "  'discharged': 11245,\n",
       "  'deaths': 109,\n",
       "  'totalConfirmed': 14715},\n",
       " {'loc': 'Meghalaya',\n",
       "  'confirmedCasesIndian': 8303,\n",
       "  'confirmedCasesForeign': 0,\n",
       "  'discharged': 5735,\n",
       "  'deaths': 75,\n",
       "  'totalConfirmed': 8303},\n",
       " {'loc': 'Mizoram',\n",
       "  'confirmedCasesIndian': 2245,\n",
       "  'confirmedCasesForeign': 0,\n",
       "  'discharged': 2133,\n",
       "  'deaths': 0,\n",
       "  'totalConfirmed': 2245},\n",
       " {'loc': 'Nagaland',\n",
       "  'confirmedCasesIndian': 7604,\n",
       "  'confirmedCasesForeign': 0,\n",
       "  'discharged': 6111,\n",
       "  'deaths': 22,\n",
       "  'totalConfirmed': 7604},\n",
       " {'loc': 'Odisha',\n",
       "  'confirmedCasesIndian': 264149,\n",
       "  'confirmedCasesForeign': 0,\n",
       "  'discharged': 241385,\n",
       "  'deaths': 1104,\n",
       "  'totalConfirmed': 264149},\n",
       " {'loc': 'Puducherry',\n",
       "  'confirmedCasesIndian': 32766,\n",
       "  'confirmedCasesForeign': 0,\n",
       "  'discharged': 27671,\n",
       "  'deaths': 571,\n",
       "  'totalConfirmed': 32766},\n",
       " {'loc': 'Punjab',\n",
       "  'confirmedCasesIndian': 126737,\n",
       "  'confirmedCasesForeign': 0,\n",
       "  'discharged': 116165,\n",
       "  'deaths': 3980,\n",
       "  'totalConfirmed': 126737},\n",
       " {'loc': 'Rajasthan',\n",
       "  'confirmedCasesIndian': 169287,\n",
       "  'confirmedCasesForeign': 2,\n",
       "  'discharged': 146185,\n",
       "  'deaths': 1723,\n",
       "  'totalConfirmed': 169289},\n",
       " {'loc': 'Sikkim',\n",
       "  'confirmedCasesIndian': 3531,\n",
       "  'confirmedCasesForeign': 0,\n",
       "  'discharged': 3177,\n",
       "  'deaths': 59,\n",
       "  'totalConfirmed': 3531},\n",
       " {'loc': 'Tamil Nadu',\n",
       "  'confirmedCasesIndian': 679185,\n",
       "  'confirmedCasesForeign': 6,\n",
       "  'discharged': 627703,\n",
       "  'deaths': 10529,\n",
       "  'totalConfirmed': 679191},\n",
       " {'loc': 'Telengana',\n",
       "  'confirmedCasesIndian': 220665,\n",
       "  'confirmedCasesForeign': 10,\n",
       "  'discharged': 196636,\n",
       "  'deaths': 1265,\n",
       "  'totalConfirmed': 220675},\n",
       " {'loc': 'Tripura',\n",
       "  'confirmedCasesIndian': 29327,\n",
       "  'confirmedCasesForeign': 0,\n",
       "  'discharged': 26035,\n",
       "  'deaths': 326,\n",
       "  'totalConfirmed': 29327},\n",
       " {'loc': 'Uttarakhand',\n",
       "  'confirmedCasesIndian': 57041,\n",
       "  'confirmedCasesForeign': 1,\n",
       "  'discharged': 50521,\n",
       "  'deaths': 829,\n",
       "  'totalConfirmed': 57042},\n",
       " {'loc': 'Uttar Pradesh',\n",
       "  'confirmedCasesIndian': 449934,\n",
       "  'confirmedCasesForeign': 1,\n",
       "  'discharged': 408083,\n",
       "  'deaths': 6589,\n",
       "  'totalConfirmed': 449935},\n",
       " {'loc': 'West Bengal',\n",
       "  'confirmedCasesIndian': 313188,\n",
       "  'confirmedCasesForeign': 0,\n",
       "  'discharged': 274757,\n",
       "  'deaths': 5931,\n",
       "  'totalConfirmed': 313188}]"
      ]
     },
     "execution_count": 27,
     "metadata": {},
     "output_type": "execute_result"
    }
   ],
   "source": [
    "list1"
   ]
  },
  {
   "cell_type": "code",
   "execution_count": 29,
   "metadata": {},
   "outputs": [
    {
     "data": {
      "text/html": [
       "<div>\n",
       "<style scoped>\n",
       "    .dataframe tbody tr th:only-of-type {\n",
       "        vertical-align: middle;\n",
       "    }\n",
       "\n",
       "    .dataframe tbody tr th {\n",
       "        vertical-align: top;\n",
       "    }\n",
       "\n",
       "    .dataframe thead th {\n",
       "        text-align: right;\n",
       "    }\n",
       "</style>\n",
       "<table border=\"1\" class=\"dataframe\">\n",
       "  <thead>\n",
       "    <tr style=\"text-align: right;\">\n",
       "      <th></th>\n",
       "      <th>success</th>\n",
       "      <th>data</th>\n",
       "      <th>lastRefreshed</th>\n",
       "      <th>lastOriginUpdate</th>\n",
       "      <th>type</th>\n",
       "    </tr>\n",
       "  </thead>\n",
       "  <tbody>\n",
       "    <tr>\n",
       "      <th>0</th>\n",
       "      <td>True</td>\n",
       "      <td>[{'loc': 'Andaman and Nicobar Islands', 'confi...</td>\n",
       "      <td>2020-10-17T13:42:23.736Z</td>\n",
       "      <td>2020-10-17T02:30:00.000Z</td>\n",
       "      <td>regional</td>\n",
       "    </tr>\n",
       "    <tr>\n",
       "      <th>1</th>\n",
       "      <td>True</td>\n",
       "      <td>{'total': 7432680, 'confirmedCasesIndian': 743...</td>\n",
       "      <td>2020-10-17T13:42:23.736Z</td>\n",
       "      <td>2020-10-17T02:30:00.000Z</td>\n",
       "      <td>summary</td>\n",
       "    </tr>\n",
       "    <tr>\n",
       "      <th>2</th>\n",
       "      <td>True</td>\n",
       "      <td>[{'source': 'covid19india.org', 'total': 74428...</td>\n",
       "      <td>2020-10-17T13:42:23.736Z</td>\n",
       "      <td>2020-10-17T02:30:00.000Z</td>\n",
       "      <td>unofficial-summary</td>\n",
       "    </tr>\n",
       "  </tbody>\n",
       "</table>\n",
       "</div>"
      ],
      "text/plain": [
       "   success                                               data  \\\n",
       "0     True  [{'loc': 'Andaman and Nicobar Islands', 'confi...   \n",
       "1     True  {'total': 7432680, 'confirmedCasesIndian': 743...   \n",
       "2     True  [{'source': 'covid19india.org', 'total': 74428...   \n",
       "\n",
       "              lastRefreshed          lastOriginUpdate                type  \n",
       "0  2020-10-17T13:42:23.736Z  2020-10-17T02:30:00.000Z            regional  \n",
       "1  2020-10-17T13:42:23.736Z  2020-10-17T02:30:00.000Z             summary  \n",
       "2  2020-10-17T13:42:23.736Z  2020-10-17T02:30:00.000Z  unofficial-summary  "
      ]
     },
     "execution_count": 29,
     "metadata": {},
     "output_type": "execute_result"
    }
   ],
   "source": [
    "df"
   ]
  },
  {
   "cell_type": "code",
   "execution_count": null,
   "metadata": {},
   "outputs": [],
   "source": []
  }
 ],
 "metadata": {
  "kernelspec": {
   "display_name": "Python 3",
   "language": "python",
   "name": "python3"
  },
  "language_info": {
   "codemirror_mode": {
    "name": "ipython",
    "version": 3
   },
   "file_extension": ".py",
   "mimetype": "text/x-python",
   "name": "python",
   "nbconvert_exporter": "python",
   "pygments_lexer": "ipython3",
   "version": "3.7.5"
  }
 },
 "nbformat": 4,
 "nbformat_minor": 2
}
